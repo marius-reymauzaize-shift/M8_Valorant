{
 "cells": [
  {
   "cell_type": "markdown",
   "metadata": {},
   "source": [
    "Basic Statistics:\n",
    "\n",
    "    Total Kills (K) per player. (By scope, by side, ) \n",
    "    Total Deaths (D) per player.\n",
    "    Kill/Death ratio (K/D) per player.\n",
    "    Average Combat Score (ACS) per player.\n",
    "    Average Damage per Round (ADR) per player.\n",
    "\n",
    "Performance Metrics:\n",
    "\n",
    "    Headshot Percentage (HS%) per player.\n",
    "    First Kills (FK) and First Deaths (FD) counts and ratios.\n",
    "    Kill/Death difference (+/-) per player.\n",
    "    Kill/Death difference in pistol rounds (+/-) per player.\n",
    "\n",
    "Agent-Specific Metrics:\n",
    "\n",
    "    Agent popularity and performance analysis.\n",
    "    Win rates and performance on specific maps for each agent.\n",
    "\n",
    "Team Performance:\n",
    "\n",
    "    Total team Kills, Deaths, and K/D ratio.\n",
    "    Team Average Combat Score (ACS) and Average Damage per Round (ADR).\n",
    "    Team First Kills (FK) and First Deaths (FD) counts and ratios.\n",
    "\n",
    "Map Performance:\n",
    "\n",
    "    Individual player performance on each map.\n",
    "    Team performance on each map.\n",
    "    Win rates on each map.\n",
    "\n",
    "Stage and Series Analysis:\n",
    "\n",
    "    Performance in different stages (e.g., Playoffs, Grand Final).\n",
    "    Series-level statistics and win rates.\n",
    "\n",
    "Comparative Analysis:\n",
    "\n",
    "    Compare individual player statistics against the team average.\n",
    "    Compare agent performance across players.\n",
    "\n",
    "Trend Analysis:\n",
    "\n",
    "    Analyze how player performance changes over different maps or series.\n",
    "    Identify trends in individual player K/D ratios.\n",
    "\n",
    "Impact Analysis:\n",
    "\n",
    "    Assess the impact of individual player performance on team success.\n"
   ]
  },
  {
   "cell_type": "code",
   "execution_count": 1,
   "metadata": {},
   "outputs": [],
   "source": [
    "import pandas as pd\n",
    "from utils import *"
   ]
  },
  {
   "cell_type": "code",
   "execution_count": 5,
   "metadata": {},
   "outputs": [],
   "source": [
    "data = pd.read_csv('Data/stat_match_ascension.csv')\n",
    "report = number_action_by_player_by_scope(df = data, action='K', average=True, team_name=\"Gentle Mates\", side='Total')"
   ]
  },
  {
   "cell_type": "code",
   "execution_count": 1,
   "metadata": {},
   "outputs": [],
   "source": [
    "import pandas as pd\n",
    "from utils import *\n",
    "\n",
    "df = pd.read_csv('champions-tour-2024-pacific-kickoff_data/general_data_champions-tour-2024-pacific-kickoff.csv')\n",
    "\n"
   ]
  },
  {
   "cell_type": "code",
   "execution_count": 2,
   "metadata": {},
   "outputs": [],
   "source": [
    "win_r = calculate_win_rate(df)"
   ]
  },
  {
   "cell_type": "code",
   "execution_count": 3,
   "metadata": {},
   "outputs": [
    {
     "data": {
      "text/plain": [
       "{'BLEED': 0.0,\n",
       " 'ZETA DIVISION': 0.5,\n",
       " 'T1': 0.67,\n",
       " 'DRX': 0.67,\n",
       " 'Global Esports': 0.33,\n",
       " 'Paper Rex': 0.67,\n",
       " 'Rex Regum Qeon': 0.0,\n",
       " 'Team Secret': 0.5,\n",
       " 'DetonatioN FocusMe': 0.0,\n",
       " 'Talon Esports': 0.33,\n",
       " 'Gen.G': 0.83}"
      ]
     },
     "execution_count": 3,
     "metadata": {},
     "output_type": "execute_result"
    }
   ],
   "source": [
    "win_r"
   ]
  }
 ],
 "metadata": {
  "kernelspec": {
   "display_name": "comp0197-pt",
   "language": "python",
   "name": "python3"
  },
  "language_info": {
   "codemirror_mode": {
    "name": "ipython",
    "version": 3
   },
   "file_extension": ".py",
   "mimetype": "text/x-python",
   "name": "python",
   "nbconvert_exporter": "python",
   "pygments_lexer": "ipython3",
   "version": "3.11.5"
  }
 },
 "nbformat": 4,
 "nbformat_minor": 2
}
