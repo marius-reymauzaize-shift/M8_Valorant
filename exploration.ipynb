{
 "cells": [
  {
   "cell_type": "markdown",
   "metadata": {},
   "source": [
    "Basic Statistics:\n",
    "\n",
    "    Total Kills (K) per player. (By scope, by side, ) \n",
    "    Total Deaths (D) per player.\n",
    "    Kill/Death ratio (K/D) per player.\n",
    "    Average Combat Score (ACS) per player.\n",
    "    Average Damage per Round (ADR) per player.\n",
    "\n",
    "Performance Metrics:\n",
    "\n",
    "    Headshot Percentage (HS%) per player.\n",
    "    First Kills (FK) and First Deaths (FD) counts and ratios.\n",
    "    Kill/Death difference (+/-) per player.\n",
    "    Kill/Death difference in pistol rounds (+/-) per player.\n",
    "\n",
    "Agent-Specific Metrics:\n",
    "\n",
    "    Agent popularity and performance analysis.\n",
    "    Win rates and performance on specific maps for each agent.\n",
    "\n",
    "Team Performance:\n",
    "\n",
    "    Total team Kills, Deaths, and K/D ratio.\n",
    "    Team Average Combat Score (ACS) and Average Damage per Round (ADR).\n",
    "    Team First Kills (FK) and First Deaths (FD) counts and ratios.\n",
    "\n",
    "Map Performance:\n",
    "\n",
    "    Individual player performance on each map.\n",
    "    Team performance on each map.\n",
    "    Win rates on each map.\n",
    "\n",
    "Stage and Series Analysis:\n",
    "\n",
    "    Performance in different stages (e.g., Playoffs, Grand Final).\n",
    "    Series-level statistics and win rates.\n",
    "\n",
    "Comparative Analysis:\n",
    "\n",
    "    Compare individual player statistics against the team average.\n",
    "    Compare agent performance across players.\n",
    "\n",
    "Trend Analysis:\n",
    "\n",
    "    Analyze how player performance changes over different maps or series.\n",
    "    Identify trends in individual player K/D ratios.\n",
    "\n",
    "Impact Analysis:\n",
    "\n",
    "    Assess the impact of individual player performance on team success.\n"
   ]
  },
  {
   "cell_type": "code",
   "execution_count": 1,
   "metadata": {},
   "outputs": [],
   "source": [
    "import pandas as pd\n",
    "from utils import *"
   ]
  },
  {
   "cell_type": "code",
   "execution_count": 5,
   "metadata": {},
   "outputs": [],
   "source": [
    "data = pd.read_csv('Data/stat_match_ascension.csv')\n",
    "report = number_action_by_player_by_scope(df = data, action='K', average=True, team_name=\"Gentle Mates\", side='Total')"
   ]
  },
  {
   "cell_type": "code",
   "execution_count": 17,
   "metadata": {},
   "outputs": [],
   "source": [
    "import pandas as pd\n",
    "\n",
    "df = pd.read_csv('champions-tour-2024-pacific-kickoff_data/general_data_champions-tour-2024-pacific-kickoff.csv')\n",
    "\n"
   ]
  },
  {
   "cell_type": "code",
   "execution_count": 39,
   "metadata": {},
   "outputs": [],
   "source": [
    "# Match rate\n",
    "data = df.drop_duplicates(['Stage', 'Series','Team Name'])\n",
    "played = data[data['Team Name'] == \"Paper Rex\"].dropna()\n",
    "wins = data[data['Team Name'] == \"Paper Rex\"].where(data['Team Name'] == data['winner']).dropna()\n",
    "win_rate_matches = round(len(wins) / len(played), 2)"
   ]
  },
  {
   "cell_type": "code",
   "execution_count": 40,
   "metadata": {},
   "outputs": [
    {
     "data": {
      "text/html": [
       "<div>\n",
       "<style scoped>\n",
       "    .dataframe tbody tr th:only-of-type {\n",
       "        vertical-align: middle;\n",
       "    }\n",
       "\n",
       "    .dataframe tbody tr th {\n",
       "        vertical-align: top;\n",
       "    }\n",
       "\n",
       "    .dataframe thead th {\n",
       "        text-align: right;\n",
       "    }\n",
       "</style>\n",
       "<table border=\"1\" class=\"dataframe\">\n",
       "  <thead>\n",
       "    <tr style=\"text-align: right;\">\n",
       "      <th></th>\n",
       "      <th>Stage</th>\n",
       "      <th>Series</th>\n",
       "      <th>Map #</th>\n",
       "      <th>Team Name</th>\n",
       "      <th>rounds</th>\n",
       "      <th>winner</th>\n",
       "    </tr>\n",
       "  </thead>\n",
       "  <tbody>\n",
       "    <tr>\n",
       "      <th>0</th>\n",
       "      <td>Group Stage</td>\n",
       "      <td>Opening (A)</td>\n",
       "      <td>2</td>\n",
       "      <td>T1</td>\n",
       "      <td>1, 1, 1, 1, 0, 1, 1, 1, 1, 1, 0, 0, 1, 1, 0, 0...</td>\n",
       "      <td>T1</td>\n",
       "    </tr>\n",
       "    <tr>\n",
       "      <th>5</th>\n",
       "      <td>Group Stage</td>\n",
       "      <td>Opening (A)</td>\n",
       "      <td>2</td>\n",
       "      <td>BLEED</td>\n",
       "      <td>0, 0, 0, 0, 1, 0, 0, 0, 0, 0, 1, 1, 0, 0, 1, 1...</td>\n",
       "      <td>T1</td>\n",
       "    </tr>\n",
       "  </tbody>\n",
       "</table>\n",
       "</div>"
      ],
      "text/plain": [
       "         Stage       Series  Map # Team Name  \\\n",
       "0  Group Stage  Opening (A)      2        T1   \n",
       "5  Group Stage  Opening (A)      2     BLEED   \n",
       "\n",
       "                                              rounds winner  \n",
       "0  1, 1, 1, 1, 0, 1, 1, 1, 1, 1, 0, 0, 1, 1, 0, 0...     T1  \n",
       "5  0, 0, 0, 0, 1, 0, 0, 0, 0, 0, 1, 1, 0, 0, 1, 1...     T1  "
      ]
     },
     "execution_count": 40,
     "metadata": {},
     "output_type": "execute_result"
    }
   ],
   "source": [
    "data_round = df.drop_duplicates(['Stage', 'Series','Team Name', 'Map #'])[['Stage', 'Series', 'Map #','Team Name', 'rounds', 'winner']]\n",
    "data_round.head(2)"
   ]
  },
  {
   "cell_type": "code",
   "execution_count": 41,
   "metadata": {},
   "outputs": [],
   "source": [
    "data_round['rounds'] = data_round['rounds'].apply(lambda x: list(map(int, x.split(', '))))\n",
    "data_round['total_rounds'] = data_round['rounds'].apply(lambda x: sum(x))"
   ]
  },
  {
   "cell_type": "code",
   "execution_count": 80,
   "metadata": {},
   "outputs": [],
   "source": [
    "def set_map_winner(df):\n",
    "    \n",
    "    map_winners = []\n",
    "\n",
    "    for i in range(0,len(df)-1,2):\n",
    "        if df['total_rounds'].iloc[i] > df['total_rounds'].iloc[i+1]:\n",
    "            map_winners.append(df['Team Name'].iloc[i])\n",
    "            map_winners.append(df['Team Name'].iloc[i])\n",
    "        else:\n",
    "            map_winners.append(df['Team Name'].iloc[i+1])\n",
    "            map_winners.append(df['Team Name'].iloc[i+1])\n",
    "    \n",
    "    df['map_winners'] = map_winners\n",
    "\n",
    "    return df\n"
   ]
  },
  {
   "cell_type": "code",
   "execution_count": 95,
   "metadata": {},
   "outputs": [],
   "source": [
    "map_winners = set_map_winner(data_round)\n",
    "played = map_winners[map_winners['Team Name'] == \"Paper Rex\"].dropna()\n",
    "wins = map_winners[map_winners['Team Name'] == \"Paper Rex\"].where(map_winners['Team Name'] == map_winners['map_winners']).dropna()\n",
    "win_rate_maps = round(len(wins) / len(played), 3)"
   ]
  },
  {
   "cell_type": "code",
   "execution_count": 2,
   "metadata": {},
   "outputs": [],
   "source": [
    "data_round = df.drop_duplicates(['Stage', 'Series','Team Name', 'Map #'])[['Stage', 'Series', 'Map #','Team Name', 'rounds', 'winner']]\n",
    "data_round['rounds'] = data_round['rounds'].apply(lambda x: list(map(int, x.split(', '))))\n",
    "data_round['total_rounds'] = data_round['rounds'].apply(lambda x: sum(x))"
   ]
  },
  {
   "cell_type": "code",
   "execution_count": 20,
   "metadata": {},
   "outputs": [],
   "source": [
    "data_round = df.drop_duplicates(['Stage', 'Series','Team Name', 'Map #'])[['Stage', 'Series', 'Map #','Team Name', 'rounds', 'winner']]\n",
    "data_round['rounds'] = data_round['rounds'].apply(lambda x: list(map(int, x.split(', '))))\n",
    "data_round['total_rounds'] = data_round['rounds'].apply(lambda x: sum(x))\n",
    "win_rates = {team : round(sum(data_round[data_round['Team Name'] == team].dropna()['total_rounds']) / data_round[data_round['Team Name'] == team].dropna()['rounds'].apply(len).sum(), 2) for team in list(set(df['Team Name']))}"
   ]
  },
  {
   "cell_type": "code",
   "execution_count": 21,
   "metadata": {},
   "outputs": [
    {
     "data": {
      "text/plain": [
       "{'Global Esports': 0.43,\n",
       " 'Talon Esports': 0.48,\n",
       " 'DetonatioN FocusMe': 0.4,\n",
       " 'BLEED': 0.44,\n",
       " 'ZETA DIVISION': 0.48,\n",
       " 'Rex Regum Qeon': 0.46,\n",
       " 'T1': 0.57,\n",
       " 'Team Secret': 0.52,\n",
       " 'Gen.G': 0.52,\n",
       " 'DRX': 0.56,\n",
       " 'Paper Rex': 0.51}"
      ]
     },
     "execution_count": 21,
     "metadata": {},
     "output_type": "execute_result"
    }
   ],
   "source": [
    "win_rates"
   ]
  },
  {
   "cell_type": "code",
   "execution_count": 11,
   "metadata": {},
   "outputs": [
    {
     "data": {
      "text/plain": [
       "19"
      ]
     },
     "execution_count": 11,
     "metadata": {},
     "output_type": "execute_result"
    }
   ],
   "source": [
    "len(data_round[data_round['Team Name'] == 'T1'].dropna()['rounds'][0])"
   ]
  },
  {
   "cell_type": "code",
   "execution_count": 24,
   "metadata": {},
   "outputs": [],
   "source": [
    "def calculate_win_rate(df, scope = 'match'):\n",
    "    \n",
    "    match scope:\n",
    "        case \"match\":\n",
    "            data = df.drop_duplicates(['Stage', 'Series','Team Name'])\n",
    "            win_rates = {team : round(len(data[data['Team Name'] == team].where(data['Team Name'] == data['winner']).dropna()) / len(data[data['Team Name'] == team].dropna()),2) for team in list(set(data['Team Name']))}\n",
    "            return win_rates\n",
    "        case \"map\":\n",
    "            data_round = df.drop_duplicates(['Stage', 'Series','Team Name', 'Map #'])[['Stage', 'Series', 'Map #','Team Name', 'rounds', 'winner']]\n",
    "            data_round['rounds'] = data_round['rounds'].apply(lambda x: list(map(int, x.split(', '))))\n",
    "            data_round['total_rounds'] = data_round['rounds'].apply(lambda x: sum(x))\n",
    "            map_winners = set_map_winner(data_round)\n",
    "            win_rates = {team : round(len(map_winners[map_winners['Team Name'] == team].where(map_winners['Team Name'] == map_winners['map_winners']).dropna()) / len(map_winners[map_winners['Team Name'] == team].dropna()),2) for team in list(set(data['Team Name']))}\n",
    "            return win_rates\n",
    "        case \"round\":\n",
    "            data_round = df.drop_duplicates(['Stage', 'Series','Team Name', 'Map #'])[['Stage', 'Series', 'Map #','Team Name', 'rounds', 'winner']]\n",
    "            data_round['rounds'] = data_round['rounds'].apply(lambda x: list(map(int, x.split(', '))))\n",
    "            data_round['total_rounds'] = data_round['rounds'].apply(lambda x: sum(x))\n",
    "            win_rates = {team : round(sum(data_round[data_round['Team Name'] == team].dropna()['total_rounds']) / data_round[data_round['Team Name'] == team].dropna()['rounds'].apply(len).sum(), 2) for team in list(set(df['Team Name']))}\n",
    "            return win_rates"
   ]
  },
  {
   "cell_type": "code",
   "execution_count": 25,
   "metadata": {},
   "outputs": [],
   "source": [
    "win_rate = calculate_win_rate(df, scope = 'round')"
   ]
  },
  {
   "cell_type": "code",
   "execution_count": 26,
   "metadata": {},
   "outputs": [
    {
     "data": {
      "text/plain": [
       "{'Global Esports': 0.43,\n",
       " 'Talon Esports': 0.48,\n",
       " 'DetonatioN FocusMe': 0.4,\n",
       " 'BLEED': 0.44,\n",
       " 'ZETA DIVISION': 0.48,\n",
       " 'Rex Regum Qeon': 0.46,\n",
       " 'T1': 0.57,\n",
       " 'Team Secret': 0.52,\n",
       " 'Gen.G': 0.52,\n",
       " 'DRX': 0.56,\n",
       " 'Paper Rex': 0.51}"
      ]
     },
     "execution_count": 26,
     "metadata": {},
     "output_type": "execute_result"
    }
   ],
   "source": [
    "win_rate"
   ]
  }
 ],
 "metadata": {
  "kernelspec": {
   "display_name": "comp0197-pt",
   "language": "python",
   "name": "python3"
  },
  "language_info": {
   "codemirror_mode": {
    "name": "ipython",
    "version": 3
   },
   "file_extension": ".py",
   "mimetype": "text/x-python",
   "name": "python",
   "nbconvert_exporter": "python",
   "pygments_lexer": "ipython3",
   "version": "3.11.5"
  }
 },
 "nbformat": 4,
 "nbformat_minor": 2
}
