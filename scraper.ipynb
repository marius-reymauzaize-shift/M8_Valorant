{
 "cells": [
  {
   "cell_type": "code",
   "execution_count": 2,
   "metadata": {},
   "outputs": [
    {
     "name": "stdout",
     "output_type": "stream",
     "text": [
      "Requirement already satisfied: requests in c:\\users\\mariu\\anaconda3\\envs\\comp0197-pt\\lib\\site-packages (2.28.1)\n",
      "Requirement already satisfied: urllib3<1.27,>=1.21.1 in c:\\users\\mariu\\anaconda3\\envs\\comp0197-pt\\lib\\site-packages (from requests) (1.26.14)\n",
      "Requirement already satisfied: charset-normalizer<3,>=2 in c:\\users\\mariu\\anaconda3\\envs\\comp0197-pt\\lib\\site-packages (from requests) (2.1.1)\n",
      "Requirement already satisfied: idna<4,>=2.5 in c:\\users\\mariu\\anaconda3\\envs\\comp0197-pt\\lib\\site-packages (from requests) (3.4)\n",
      "Requirement already satisfied: certifi>=2017.4.17 in c:\\users\\mariu\\anaconda3\\envs\\comp0197-pt\\lib\\site-packages (from requests) (2022.12.7)\n",
      "Requirement already satisfied: bs4 in c:\\users\\mariu\\anaconda3\\envs\\comp0197-pt\\lib\\site-packages (0.0.1)\n",
      "Requirement already satisfied: beautifulsoup4 in c:\\users\\mariu\\anaconda3\\envs\\comp0197-pt\\lib\\site-packages (from bs4) (4.11.1)\n",
      "Requirement already satisfied: soupsieve>1.2 in c:\\users\\mariu\\anaconda3\\envs\\comp0197-pt\\lib\\site-packages (from beautifulsoup4->bs4) (2.3.2.post1)\n",
      "Requirement already satisfied: lxml in c:\\users\\mariu\\anaconda3\\envs\\comp0197-pt\\lib\\site-packages (4.9.2)\n",
      "Requirement already satisfied: pandas in c:\\users\\mariu\\anaconda3\\envs\\comp0197-pt\\lib\\site-packages (1.5.3)\n",
      "Requirement already satisfied: numpy>=1.21.0 in c:\\users\\mariu\\anaconda3\\envs\\comp0197-pt\\lib\\site-packages (from pandas) (1.23.5)\n",
      "Requirement already satisfied: pytz>=2020.1 in c:\\users\\mariu\\anaconda3\\envs\\comp0197-pt\\lib\\site-packages (from pandas) (2022.7.1)\n",
      "Requirement already satisfied: python-dateutil>=2.8.1 in c:\\users\\mariu\\appdata\\roaming\\python\\python310\\site-packages (from pandas) (2.8.2)\n",
      "Requirement already satisfied: six>=1.5 in c:\\users\\mariu\\appdata\\roaming\\python\\python310\\site-packages (from python-dateutil>=2.8.1->pandas) (1.16.0)\n"
     ]
    }
   ],
   "source": [
    "!pip install requests\n",
    "!pip install bs4\n",
    "!pip install lxml\n",
    "!pip install pandas"
   ]
  },
  {
   "cell_type": "code",
   "execution_count": 1,
   "metadata": {},
   "outputs": [],
   "source": [
    "# import libraries\n",
    "import os\n",
    "import pandas as pd\n",
    "import lxml\n",
    "import requests  \n",
    "from bs4 import BeautifulSoup\n",
    "from scraper import *"
   ]
  },
  {
   "cell_type": "markdown",
   "metadata": {},
   "source": [
    "# scraping of the performance info"
   ]
  },
  {
   "cell_type": "code",
   "execution_count": 1,
   "metadata": {},
   "outputs": [],
   "source": [
    "from scraper import *\n",
    "from utils import *\n",
    "\n",
    "list_url = ['https://www.vlr.gg/296735/t1-vs-bleed-champions-tour-2024-pacific-kickoff-opening-a', 'https://www.vlr.gg/296730/zeta-division-vs-global-esports-champions-tour-2024-pacific-kickoff-opening-a']\n",
    "\n",
    "test = general_data_scraper(list_url)"
   ]
  },
  {
   "cell_type": "code",
   "execution_count": 1,
   "metadata": {},
   "outputs": [
    {
     "name": "stdout",
     "output_type": "stream",
     "text": [
      "Get all the matches...\n",
      "Fetching General Data...\n",
      "Fetching Performance Data...\n",
      "Fetching Economy Data...\n",
      "Fetching Picks and Bans Data...\n",
      "Saving the data...\n",
      "DataFrame saved as CSV file: champions-tour-2024-pacific-kickoff_data\\general_data_champions-tour-2024-pacific-kickoff.csv\n",
      "DataFrame saved as CSV file: champions-tour-2024-pacific-kickoff_data\\performance_data_champions-tour-2024-pacific-kickoff.csv\n",
      "DataFrame saved as CSV file: champions-tour-2024-pacific-kickoff_data\\economy_data_champions-tour-2024-pacific-kickoff.csv\n",
      "DataFrame saved as CSV file: champions-tour-2024-pacific-kickoff_data\\pick_ban_data_champions-tour-2024-pacific-kickoff.csv\n"
     ]
    },
    {
     "data": {
      "text/plain": [
       "0"
      ]
     },
     "execution_count": 1,
     "metadata": {},
     "output_type": "execute_result"
    }
   ],
   "source": [
    "from scraper import *\n",
    "\n",
    "main(\"https://www.vlr.gg/event/matches/1924/champions-tour-2024-pacific-kickoff/?series_id=all\")"
   ]
  },
  {
   "cell_type": "code",
   "execution_count": 6,
   "metadata": {},
   "outputs": [
    {
     "data": {
      "text/html": [
       "<div>\n",
       "<style scoped>\n",
       "    .dataframe tbody tr th:only-of-type {\n",
       "        vertical-align: middle;\n",
       "    }\n",
       "\n",
       "    .dataframe tbody tr th {\n",
       "        vertical-align: top;\n",
       "    }\n",
       "\n",
       "    .dataframe thead th {\n",
       "        text-align: right;\n",
       "    }\n",
       "</style>\n",
       "<table border=\"1\" class=\"dataframe\">\n",
       "  <thead>\n",
       "    <tr style=\"text-align: right;\">\n",
       "      <th></th>\n",
       "      <th>Stage</th>\n",
       "      <th>Series</th>\n",
       "      <th>Team Name</th>\n",
       "      <th>Bans</th>\n",
       "      <th>Picks</th>\n",
       "      <th>Decider</th>\n",
       "    </tr>\n",
       "  </thead>\n",
       "  <tbody>\n",
       "    <tr>\n",
       "      <th>0</th>\n",
       "      <td>Group Stage</td>\n",
       "      <td>Decider (C)</td>\n",
       "      <td>M8</td>\n",
       "      <td>[Bind, Ascent]</td>\n",
       "      <td>[Breeze]</td>\n",
       "      <td>[Sunset]</td>\n",
       "    </tr>\n",
       "    <tr>\n",
       "      <th>1</th>\n",
       "      <td>Group Stage</td>\n",
       "      <td>Decider (C)</td>\n",
       "      <td>VIT</td>\n",
       "      <td>[Icebox, Split]</td>\n",
       "      <td>[Lotus]</td>\n",
       "      <td>[Sunset]</td>\n",
       "    </tr>\n",
       "    <tr>\n",
       "      <th>2</th>\n",
       "      <td>Play-Ins</td>\n",
       "      <td>Group B</td>\n",
       "      <td>GTZ</td>\n",
       "      <td>[Lotus, Split, Haven]</td>\n",
       "      <td>[]</td>\n",
       "      <td>[Pearl]</td>\n",
       "    </tr>\n",
       "    <tr>\n",
       "      <th>3</th>\n",
       "      <td>Play-Ins</td>\n",
       "      <td>Group B</td>\n",
       "      <td>MOUZ</td>\n",
       "      <td>[Fracture, Ascent, Bind]</td>\n",
       "      <td>[]</td>\n",
       "      <td>[Pearl]</td>\n",
       "    </tr>\n",
       "  </tbody>\n",
       "</table>\n",
       "</div>"
      ],
      "text/plain": [
       "         Stage       Series Team Name                      Bans     Picks  \\\n",
       "0  Group Stage  Decider (C)        M8            [Bind, Ascent]  [Breeze]   \n",
       "1  Group Stage  Decider (C)       VIT           [Icebox, Split]   [Lotus]   \n",
       "2     Play-Ins      Group B       GTZ     [Lotus, Split, Haven]        []   \n",
       "3     Play-Ins      Group B      MOUZ  [Fracture, Ascent, Bind]        []   \n",
       "\n",
       "    Decider  \n",
       "0  [Sunset]  \n",
       "1  [Sunset]  \n",
       "2   [Pearl]  \n",
       "3   [Pearl]  "
      ]
     },
     "execution_count": 6,
     "metadata": {},
     "output_type": "execute_result"
    }
   ],
   "source": [
    "result.head()"
   ]
  }
 ],
 "metadata": {
  "kernelspec": {
   "display_name": "myenv",
   "language": "python",
   "name": "python3"
  },
  "language_info": {
   "codemirror_mode": {
    "name": "ipython",
    "version": 3
   },
   "file_extension": ".py",
   "mimetype": "text/x-python",
   "name": "python",
   "nbconvert_exporter": "python",
   "pygments_lexer": "ipython3",
   "version": "3.11.5"
  }
 },
 "nbformat": 4,
 "nbformat_minor": 2
}
